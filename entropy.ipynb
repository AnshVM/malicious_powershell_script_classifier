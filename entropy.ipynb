{
 "cells": [
  {
   "cell_type": "code",
   "execution_count": 1,
   "metadata": {},
   "outputs": [],
   "source": [
    "import math\n",
    "def entropy(filepath):\n",
    "    content = open(filepath,encoding=\"utf8\").read()\n",
    "    charmap = {}\n",
    "\n",
    "    for c in content:\n",
    "        if charmap.get(c)==None:\n",
    "            charmap[c] = 1\n",
    "        else:\n",
    "            charmap[c] = charmap[c] + 1\n",
    "    summation = 0\n",
    "    t = len(content)\n",
    "    for x,xi in charmap.items():\n",
    "       summation = summation + (xi/t)*math.log10(xi/t)\n",
    "    return -summation "
   ]
  },
  {
   "cell_type": "code",
   "execution_count": 9,
   "metadata": {},
   "outputs": [
    {
     "name": "stdout",
     "output_type": "stream",
     "text": [
      "6345.685940511483 6155.043083368552\n"
     ]
    }
   ],
   "source": [
    "# calulate the entropy of a directory of files\n",
    "import os\n",
    "def entropy_dir(dirpath):\n",
    "    files = os.listdir(dirpath)\n",
    "    entropies = 0\n",
    "    for f in files:\n",
    "        entropies = entropies + entropy(dirpath+f)\n",
    "    return entropies\n",
    "\n",
    "me = entropy_dir('../mpsd/malicious_pure/')\n",
    "be = entropy_dir('../mpsd/powershell_benign_dataset/')\n",
    "print(me,be)"
   ]
  },
  {
   "cell_type": "code",
   "execution_count": null,
   "metadata": {},
   "outputs": [],
   "source": []
  },
  {
   "cell_type": "code",
   "execution_count": null,
   "metadata": {},
   "outputs": [],
   "source": []
  }
 ],
 "metadata": {
  "kernelspec": {
   "display_name": "Python 3.10.2 64-bit",
   "language": "python",
   "name": "python3"
  },
  "language_info": {
   "codemirror_mode": {
    "name": "ipython",
    "version": 3
   },
   "file_extension": ".py",
   "mimetype": "text/x-python",
   "name": "python",
   "nbconvert_exporter": "python",
   "pygments_lexer": "ipython3",
   "version": "3.10.2"
  },
  "orig_nbformat": 4,
  "vscode": {
   "interpreter": {
    "hash": "369f2c481f4da34e4445cda3fffd2e751bd1c4d706f27375911949ba6bb62e1c"
   }
  }
 },
 "nbformat": 4,
 "nbformat_minor": 2
}
