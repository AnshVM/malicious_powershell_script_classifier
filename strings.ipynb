{
 "cells": [
  {
   "cell_type": "code",
   "execution_count": 1,
   "metadata": {},
   "outputs": [],
   "source": [
    "from utils import read_csv\n",
    "\n",
    "def get_string_info(tokens_filepath):\n",
    "    data = read_csv(tokens_filepath)\n",
    "    data = data[1:]\n",
    "    nstrings = 0\n",
    "    max_len = 0\n",
    "    avg_len = 0\n",
    "    for row in data:\n",
    "        if row[1]=='String':\n",
    "            nstrings = nstrings + 1\n",
    "            max_len = len(row[0]) if len(row[0]) > max_len else max_len\n",
    "            avg_len = avg_len + len(row[0])\n",
    "    if nstrings==0:\n",
    "        nstrings = 1\n",
    "    return nstrings,max_len,avg_len/nstrings\n"
   ]
  }
 ],
 "metadata": {
  "kernelspec": {
   "display_name": "Python 3.10.2 64-bit",
   "language": "python",
   "name": "python3"
  },
  "language_info": {
   "codemirror_mode": {
    "name": "ipython",
    "version": 3
   },
   "file_extension": ".py",
   "mimetype": "text/x-python",
   "name": "python",
   "nbconvert_exporter": "python",
   "pygments_lexer": "ipython3",
   "version": "3.10.2"
  },
  "orig_nbformat": 4,
  "vscode": {
   "interpreter": {
    "hash": "369f2c481f4da34e4445cda3fffd2e751bd1c4d706f27375911949ba6bb62e1c"
   }
  }
 },
 "nbformat": 4,
 "nbformat_minor": 2
}
