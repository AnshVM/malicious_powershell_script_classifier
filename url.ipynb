{
 "cells": [
  {
   "cell_type": "code",
   "execution_count": 3,
   "metadata": {},
   "outputs": [],
   "source": [
    "import re\n",
    "from utils import read_csv\n",
    "\n",
    "url_regex = r\"https?:\\/\\/(www\\.)?[-a-zA-Z0-9@:%._\\+~#=]{1,256}\\.[a-zA-Z0-9()]{1,6}\\b([-a-zA-Z0-9()@:%_\\+.~#?&//=]*)\"\n",
    "# regexes are a foot in the gun most of the time, though they are okay to use for simple cases\n",
    "# all edge cases are difficult to cover. Although for the requirements of this project this should suffice\n",
    "\n",
    "def detect_urls(tokens_filepath):\n",
    "    data = read_csv(tokens_filepath)\n",
    "    data = data[1:]\n",
    "    urls = []\n",
    "    for row in data:\n",
    "        if row[1]=='String' and re.search(url_regex,row[0])!=None:\n",
    "            urls.append(row[0])\n",
    "    return urls\n"
   ]
  },
  {
   "cell_type": "code",
   "execution_count": 1,
   "metadata": {},
   "outputs": [],
   "source": [
    "import os"
   ]
  },
  {
   "cell_type": "code",
   "execution_count": 4,
   "metadata": {},
   "outputs": [
    {
     "name": "stdout",
     "output_type": "stream",
     "text": [
      "1904\n"
     ]
    }
   ],
   "source": [
    "url_count = 0\n",
    "for file in os.listdir('../tokens/malicious/'):\n",
    "    url_count += len(detect_urls('../tokens/malicious/'+file))\n",
    "print(url_count)\n"
   ]
  }
 ],
 "metadata": {
  "kernelspec": {
   "display_name": "Python 3.10.2 64-bit",
   "language": "python",
   "name": "python3"
  },
  "language_info": {
   "codemirror_mode": {
    "name": "ipython",
    "version": 3
   },
   "file_extension": ".py",
   "mimetype": "text/x-python",
   "name": "python",
   "nbconvert_exporter": "python",
   "pygments_lexer": "ipython3",
   "version": "3.10.2"
  },
  "orig_nbformat": 4,
  "vscode": {
   "interpreter": {
    "hash": "369f2c481f4da34e4445cda3fffd2e751bd1c4d706f27375911949ba6bb62e1c"
   }
  }
 },
 "nbformat": 4,
 "nbformat_minor": 2
}
